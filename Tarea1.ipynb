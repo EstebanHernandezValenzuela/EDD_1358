{
  "nbformat": 4,
  "nbformat_minor": 0,
  "metadata": {
    "colab": {
      "name": "EDD_1358.ipynb",
      "provenance": [],
      "collapsed_sections": []
    },
    "kernelspec": {
      "name": "python3",
      "display_name": "Python 3"
    },
    "language_info": {
      "name": "python"
    }
  },
  "cells": [
    {
      "cell_type": "code",
      "execution_count": 176,
      "metadata": {
        "colab": {
          "base_uri": "https://localhost:8080/"
        },
        "id": "9y0oignXr8z7",
        "outputId": "7cd97b4f-2ac2-4f08-fdd0-913307748565"
      },
      "outputs": [
        {
          "output_type": "stream",
          "name": "stdout",
          "text": [
            "RED\n",
            "SOCIAL  CONCEPTO       AÑOENEROFEBREROMARZOABRIL MAYO JUNIO JULIOAGOSTOSEPTIEMBREOCTUBRENOVIEMBREDICIEMBRE\n",
            "FACEBOOKSEGUIDORES     2020 152107 156957 160595165180170488178413         0  0   0    0        0        0\n",
            "        CRECIMIENTO\n",
            "FACEBOOK(SEGUIDORES)   2020    660     4850 3638 4585 5308 7925            0  0   0    0        0        0\n",
            "        PORCENTAJE DE\n",
            "FACEBOOKCRECIMIENTO    20200.43% 3%         2%     3%     3%     4%     0% 0%  0%  0%   0%        0%\n",
            "FACEBOOKPUBLICACIONES 2020      45       53     52    106     98     64    0  0   0    0        0        0\n",
            "        ME GUSTA EN\n",
            "FACEBOOKPUBLICACIONES 2020 8771        9002 13556 15022 38953 16487        0  0   0    0        0        0\n",
            "        PUBLICACIONES\n",
            "FACEBOOKCOMPARTIDAS    2020 2338       2680 2802 4214 8415 4240            0  0   0    0        0        0\n",
            "        COMENTARIOS\n",
            "FACEBOOK(USUARIOS)     2020    902      601    775 1100 2614 1268          0  0   0    0        0        0\n",
            "        SEGUIDORES\n",
            "TWITTER (FOLLOWERS)    2020 62404     63232 64149 65410 66355 67496        0  0   0    0        0        0\n",
            "        CRECIMIENTO DE\n",
            "TWITTER FOLLOWERS      2020    863      828    917 1261      945 1141      0  0   0    0        0        0\n",
            "        PORCENTAJE DE\n",
            "TWITTER CRECIMIENTO    20201%      1%       1%     2%     1%     1%     0% 0%  0%  0%   0%        0%\n",
            "TWITTER PUBLICACIONES 2020      77       84     90    135    127     82    0  0   0    0        0        0\n",
            "TWITTER RETUITS        2020    563      601    748    847 1136      780    0  0   0    0        0        0\n",
            "TWITTER ME GUSTA       2020 1224       1225 1601 1994 2667 2069            0  0   0    0        0        0\n",
            "TWITTER IMPACTOS       2020 197275 220118 270310311931409684284147         0  0   0    0        0        0\n",
            "YOUTUBE VIDEOS         2020      1        2      5      4      4      4    0  0   0    3        5        0\n",
            "YOUTUBE VISUALIZACIONES2020 12226     15605 19602 19452 21805 17344        0  0   0    0        0        0\n",
            "YOUTUBE COMENTARIOS 2020         0        0      2      0      6      0    0  0   0    1        3        0\n",
            "YOUTUBE ME GUSTA       2020      4       15     15      8     30     33    0  0   0    8       23        0\n",
            "---------------------------------------------------------------\n",
            "Seguidores en Enero: 62404\n",
            "Seguidores en Junio: 67496      \n",
            "Diferencia total entre Enero y Junio: \n",
            "129900\n",
            "---------------------------------------------------------------\n",
            "Escriba un mes entre Enero y Junio: a\n",
            "Escriba un mes entre Enero y Junio: a\n",
            "Diferencia de visualizaciones 0\n",
            "---------------------------------------------------------------\n",
            "Hubo un crecimiento del 17.294404596764124% en facebook\n",
            "Hubo un crecimiento del 8.159733350426258% en twitter\n"
          ]
        }
      ],
      "source": [
        "from IPython.core.display import Math\n",
        "\n",
        "file=open('/content/presenciaredes.txt','r')\n",
        "linea=file.read()\n",
        "print(linea.rstrip())\n",
        "\n",
        "print(\"---------------------------------------------------------------\")\n",
        "enero=linea[1005:1010]\n",
        "junio=linea[1039:1050]\n",
        "print(\"Seguidores en Enero: \"+enero)\n",
        "enero=(int(enero))\n",
        "print(\"Seguidores en Junio: \"+junio)\n",
        "junio=(int(junio))\n",
        "resultado=enero+junio\n",
        "print(\"Diferencia total entre Enero y Junio: \")\n",
        "print(resultado)\n",
        "print(\"---------------------------------------------------------------\")\n",
        "\n",
        "mes_1=str(input(\"Escriba un mes entre Enero y Junio: \"))\n",
        "\n",
        "\n",
        "if(mes_1 ==\"Enero\"):\n",
        "    total1= linea[1900:1905]\n",
        "    print(\"Visualizaciones de Enero: \"+total1)\n",
        "if(mes_1 ==\"Febrero\"):\n",
        "    total1= linea[1910:1915]\n",
        "    print(\"Visualizaciones de Febrero: \"+total1)\n",
        "if(mes_1 ==\"Marzo\"):\n",
        "    total1= linea[1916:1921]\n",
        "    print(\"Visualizaciones de Marzo: \"+total1)\n",
        "if(mes_1 ==\"Abril\"):\n",
        "    total1= linea[1922:1927]\n",
        "    print(\"Visualizaciones de Abril: \"+total1)\n",
        "if(mes_1 ==\"Mayo\"):\n",
        "    total1= linea[1928:1933]\n",
        "    print(\"Visualizaciones de Mayo: \"+total1)\n",
        "if(mes_1 ==\"Junio\"):\n",
        "    total1= linea[1934:1939]\n",
        "    print(\"Visualizaciones de Junio: \"+total1)\n",
        "    \n",
        "    \n",
        "\n",
        "mes_2=str(input(\"Escriba un mes entre Enero y Junio: \"))\n",
        "if(mes_2 ==\"Enero\"):\n",
        "    total2= linea[1900:1905]\n",
        "    print(\"Visualizaciones de Enero: \"+total2)\n",
        "if(mes_2 ==\"Febrero\"):\n",
        "    total2= linea[1910:1915]\n",
        "    print(\"Visualizaciones de Febrero: \"+total2)\n",
        "if(mes_2 ==\"Marzo\"):\n",
        "    total2= linea[1916:1921]\n",
        "    print(\"Visualizaciones de Marzo: \"+total2)\n",
        "if(mes_2 ==\"Abril\"):\n",
        "    total2= linea[1922:1927]\n",
        "    print(\"Visualizaciones de Abril: \"+total2)\n",
        "if(mes_2 ==\"Mayo\"):\n",
        "    total2= linea[1928:1933]\n",
        "    print(\"Visualizaciones de Mayo: \"+total2)\n",
        "if(mes_2 ==\"Junio\"):\n",
        "    total2= linea[1934:1939]\n",
        "    print(\"Visualizaciones de Junio: \"+total2)\n",
        "\n",
        "\n",
        "total1=int(total1)\n",
        "total2=int(total2)\n",
        "if(total1> total2):\n",
        "    total=total1 - total2\n",
        "    print(\"Diferencia de visualizaciones \"+str(total))\n",
        "else:\n",
        "    total=total2-total1\n",
        "    print(\"Diferencia de visualizaciones \"+str(total))\n",
        "print(\"---------------------------------------------------------------\")\n",
        "\n",
        "twitter= (((67496/62404)-1)*100)\n",
        "facebook=(((178413/152107)-1)*100)\n",
        "print(\"Hubo un crecimiento del \"+str(facebook)+\"% en facebook\")\n",
        "print(\"Hubo un crecimiento del \"+str(twitter)+\"% en twitter\") "
      ]
    },
    {
      "cell_type": "code",
      "source": [
        ""
      ],
      "metadata": {
        "id": "6HjDdd6ncBMK"
      },
      "execution_count": null,
      "outputs": []
    },
    {
      "cell_type": "code",
      "source": [
        ""
      ],
      "metadata": {
        "id": "Q1evUtF-65jm"
      },
      "execution_count": null,
      "outputs": []
    }
  ]
}